{
 "cells": [
  {
   "cell_type": "markdown",
   "id": "6cc7124f-b7f4-4658-a715-4d9be41251e9",
   "metadata": {},
   "source": [
    "https://www.kaggle.com/c/h-and-m-personalized-fashion-recommendations  \n",
    "Code to create the transactions data file (with the exploration part removed)"
   ]
  },
  {
   "cell_type": "code",
   "execution_count": 1,
   "id": "5e8be7db-c21e-49ff-82f2-1064f2f9e529",
   "metadata": {},
   "outputs": [],
   "source": [
    "import findspark\n",
    "findspark.init()"
   ]
  },
  {
   "cell_type": "code",
   "execution_count": 2,
   "id": "3a8d2837-6f6d-4e63-9468-7a78f8834623",
   "metadata": {},
   "outputs": [],
   "source": [
    "from pyspark.sql import DataFrame, SparkSession\n",
    "from pyspark.sql import functions as F\n",
    "from pyspark.sql import types as T\n",
    "\n",
    "import pandas as pd\n",
    "pd.set_option('display.max_columns', None)"
   ]
  },
  {
   "cell_type": "code",
   "execution_count": 3,
   "id": "a6ad7485-6b39-4919-9b43-272e59606e1b",
   "metadata": {},
   "outputs": [],
   "source": [
    "spark = SparkSession.builder \\\n",
    "    .appName(\"Fashionable\")\\\n",
    "    .master(\"local[*]\")\\\n",
    "    .config(\"spark.driver.memory\",\"25G\")\\\n",
    "    .getOrCreate()"
   ]
  },
  {
   "cell_type": "markdown",
   "id": "d1e6d588-8ffd-43a4-8d7b-ba7f0848ca62",
   "metadata": {},
   "source": [
    "## Transactions"
   ]
  },
  {
   "cell_type": "code",
   "execution_count": null,
   "id": "66a9e213-6e6a-445e-a8c1-f7c87a6def36",
   "metadata": {},
   "outputs": [],
   "source": [
    "src_trans_csv = r\"D:\\Data\\h&m\\transactions_train.csv\"\n",
    "src_trans_pq = r'D:\\data\\h&m\\transactions_train.parquet'"
   ]
  },
  {
   "cell_type": "code",
   "execution_count": 4,
   "id": "21026b69-289d-483d-a50b-c5dc83dbe0bd",
   "metadata": {},
   "outputs": [],
   "source": [
    "df_trans = spark.read.format(\"csv\").option(\"header\",\"true\").load(src_trans_csv)"
   ]
  },
  {
   "cell_type": "code",
   "execution_count": 10,
   "id": "be00290d-4ea6-4e8b-b85f-30b5623a00a7",
   "metadata": {},
   "outputs": [],
   "source": [
    "schema = T.StructType() \\\n",
    "    .add(\"t_dat\", T.DateType(), False) \\\n",
    "    .add(\"customer_id\", T.StringType(),False) \\\n",
    "    .add(\"article_id\", T.StringType(),False) \\\n",
    "    .add(\"price\", T.DoubleType(),True) \\\n",
    "    .add(\"sales_channel_id\", T.IntegerType(),True) "
   ]
  },
  {
   "cell_type": "code",
   "execution_count": 11,
   "id": "88f588c0-88ca-4120-8126-84b91c8dcf6b",
   "metadata": {},
   "outputs": [],
   "source": [
    "df_trans = spark.read.format(\"csv\") \\\n",
    "      .option(\"header\", True) \\\n",
    "      .schema(schema) \\\n",
    "      .load(src_transactions)"
   ]
  },
  {
   "cell_type": "code",
   "execution_count": 12,
   "id": "b274df34-917b-4708-ab27-da068b329acb",
   "metadata": {},
   "outputs": [
    {
     "name": "stdout",
     "output_type": "stream",
     "text": [
      "root\n",
      " |-- t_dat: date (nullable = true)\n",
      " |-- customer_id: string (nullable = true)\n",
      " |-- article_id: string (nullable = true)\n",
      " |-- price: double (nullable = true)\n",
      " |-- sales_channel_id: integer (nullable = true)\n",
      "\n"
     ]
    }
   ],
   "source": [
    "df_trans.printSchema()"
   ]
  },
  {
   "cell_type": "code",
   "execution_count": 14,
   "id": "19c42dc7-0937-4e92-bf71-d0523c32cfb3",
   "metadata": {},
   "outputs": [],
   "source": [
    "\n",
    "df_trans.write.parquet(src_trans_pq)"
   ]
  }
 ],
 "metadata": {
  "kernelspec": {
   "display_name": "Python 3 (ipykernel)",
   "language": "python",
   "name": "python3"
  },
  "language_info": {
   "codemirror_mode": {
    "name": "ipython",
    "version": 3
   },
   "file_extension": ".py",
   "mimetype": "text/x-python",
   "name": "python",
   "nbconvert_exporter": "python",
   "pygments_lexer": "ipython3",
   "version": "3.9.1"
  }
 },
 "nbformat": 4,
 "nbformat_minor": 5
}
